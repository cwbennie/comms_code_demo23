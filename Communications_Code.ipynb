{
 "cells": [
  {
   "cell_type": "code",
   "execution_count": 59,
   "metadata": {},
   "outputs": [],
   "source": [
    "import matplotlib.pyplot as plt\n",
    "import pandas as pd\n",
    "import numpy as np\n",
    "import statsmodels.api as sm\n",
    "import statsmodels.formula.api as smf"
   ]
  },
  {
   "cell_type": "code",
   "execution_count": 47,
   "metadata": {},
   "outputs": [
    {
     "name": "stdout",
     "output_type": "stream",
     "text": [
      "Index(['symboling', 'normalized-losses', 'make', 'fuel-type', 'aspiration',\n",
      "       'num-of-doors', 'body-style', 'drive-wheels', 'engine-location',\n",
      "       'wheel-base', 'length', 'width', 'height', 'curb-weight', 'engine-type',\n",
      "       'num-of-cylinders', 'engine-size', 'fuel-system', 'bore', 'stroke',\n",
      "       'compression-ratio', 'horsepower', 'peak-rpm', 'city-mpg',\n",
      "       'highway-mpg', 'price'],\n",
      "      dtype='object')\n"
     ]
    }
   ],
   "source": [
    "# Load in data for regression analysis\n",
    "mlr_example = pd.read_csv('Automobile_data.csv')\n",
    "\n",
    "# Identify target variable and potential predictors\n",
    "print(mlr_example.columns)"
   ]
  },
  {
   "cell_type": "code",
   "execution_count": 48,
   "metadata": {},
   "outputs": [
    {
     "name": "stdout",
     "output_type": "stream",
     "text": [
      "<class 'pandas.core.frame.DataFrame'>\n",
      "RangeIndex: 205 entries, 0 to 204\n",
      "Data columns (total 5 columns):\n",
      " #   Column       Non-Null Count  Dtype \n",
      "---  ------       --------------  ----- \n",
      " 0   engine_size  205 non-null    int64 \n",
      " 1   horsepower   205 non-null    object\n",
      " 2   fuel_type    205 non-null    object\n",
      " 3   price        205 non-null    object\n",
      " 4   highway_mpg  205 non-null    int64 \n",
      "dtypes: int64(2), object(3)\n",
      "memory usage: 8.1+ KB\n"
     ]
    }
   ],
   "source": [
    "# Isolate predictor variables into new dataframe\n",
    "model_data = mlr_example[['engine-size', 'horsepower', 'fuel-type', 'price', 'highway-mpg']].copy()\n",
    "model_data.columns = ['engine_size', 'horsepower', 'fuel_type', 'price', 'highway_mpg']\n",
    "\n",
    "model_data.info()"
   ]
  },
  {
   "cell_type": "code",
   "execution_count": 49,
   "metadata": {},
   "outputs": [
    {
     "name": "stdout",
     "output_type": "stream",
     "text": [
      "['111' '154' '102' '115' '110' '140' '160' '101' '121' '182' '48' '70'\n",
      " '68' '88' '145' '58' '76' '60' '86' '100' '78' '90' '176' '262' '135'\n",
      " '84' '64' '120' '72' '123' '155' '184' '175' '116' '69' '55' '97' '152'\n",
      " '200' '95' '142' '143' '207' '288' '?' '73' '82' '94' '62' '56' '112'\n",
      " '92' '161' '156' '52' '85' '114' '162' '134' '106']\n"
     ]
    }
   ],
   "source": [
    "# Check values to make sure you can perform regression\n",
    "print(model_data['horsepower'].unique())"
   ]
  },
  {
   "cell_type": "markdown",
   "metadata": {},
   "source": [
    "We can see that the horsepower column isn't entered as numeric values even though it appeared to be appropriate based on the table summary. Horsepower, and a few of the other columns also have a sentinel value of '?' to indicate missing values.\n",
    "\n",
    "So, we need to update/replace missing values and make sure the values are stored as numeric.\n",
    "\n",
    "This same check/update should be done to all of the other columns."
   ]
  },
  {
   "cell_type": "code",
   "execution_count": 50,
   "metadata": {},
   "outputs": [],
   "source": [
    "# Replace the sentinel values in columns with null values\n",
    "cols = model_data.columns\n",
    "for col in cols:\n",
    "\tmodel_data[col].replace('?', np.nan, inplace=True)\n",
    "\n",
    "# update dtypes for columns for regression\n",
    "model_data['fuel_type'] = model_data['fuel_type'].astype('category')\n",
    "model_data['price'] = pd.to_numeric(model_data['price'])\n",
    "model_data['horsepower'] = pd.to_numeric(model_data['horsepower'])\n",
    "\n",
    "# drop null values\n",
    "model_data = model_data.dropna()"
   ]
  },
  {
   "cell_type": "code",
   "execution_count": 52,
   "metadata": {},
   "outputs": [
    {
     "data": {
      "text/html": [
       "<table class=\"simpletable\">\n",
       "<caption>OLS Regression Results</caption>\n",
       "<tr>\n",
       "  <th>Dep. Variable:</th>          <td>price</td>      <th>  R-squared:         </th> <td>   0.812</td>\n",
       "</tr>\n",
       "<tr>\n",
       "  <th>Model:</th>                   <td>OLS</td>       <th>  Adj. R-squared:    </th> <td>   0.808</td>\n",
       "</tr>\n",
       "<tr>\n",
       "  <th>Method:</th>             <td>Least Squares</td>  <th>  F-statistic:       </th> <td>   209.7</td>\n",
       "</tr>\n",
       "<tr>\n",
       "  <th>Date:</th>             <td>Sat, 30 Sep 2023</td> <th>  Prob (F-statistic):</th> <td>2.84e-69</td>\n",
       "</tr>\n",
       "<tr>\n",
       "  <th>Time:</th>                 <td>15:26:07</td>     <th>  Log-Likelihood:    </th> <td> -1903.4</td>\n",
       "</tr>\n",
       "<tr>\n",
       "  <th>No. Observations:</th>      <td>   199</td>      <th>  AIC:               </th> <td>   3817.</td>\n",
       "</tr>\n",
       "<tr>\n",
       "  <th>Df Residuals:</th>          <td>   194</td>      <th>  BIC:               </th> <td>   3833.</td>\n",
       "</tr>\n",
       "<tr>\n",
       "  <th>Df Model:</th>              <td>     4</td>      <th>                     </th>     <td> </td>   \n",
       "</tr>\n",
       "<tr>\n",
       "  <th>Covariance Type:</th>      <td>nonrobust</td>    <th>                     </th>     <td> </td>   \n",
       "</tr>\n",
       "</table>\n",
       "<table class=\"simpletable\">\n",
       "<tr>\n",
       "          <td></td>            <th>coef</th>     <th>std err</th>      <th>t</th>      <th>P>|t|</th>  <th>[0.025</th>    <th>0.975]</th>  \n",
       "</tr>\n",
       "<tr>\n",
       "  <th>Intercept</th>        <td> 3071.2513</td> <td> 3175.980</td> <td>    0.967</td> <td> 0.335</td> <td>-3192.632</td> <td> 9335.134</td>\n",
       "</tr>\n",
       "<tr>\n",
       "  <th>fuel_type[T.gas]</th> <td>-3882.1745</td> <td>  910.199</td> <td>   -4.265</td> <td> 0.000</td> <td>-5677.331</td> <td>-2087.018</td>\n",
       "</tr>\n",
       "<tr>\n",
       "  <th>engine_size</th>      <td>  102.6287</td> <td>   11.343</td> <td>    9.048</td> <td> 0.000</td> <td>   80.258</td> <td>  124.999</td>\n",
       "</tr>\n",
       "<tr>\n",
       "  <th>horsepower</th>       <td>   58.0126</td> <td>   14.923</td> <td>    3.888</td> <td> 0.000</td> <td>   28.581</td> <td>   87.444</td>\n",
       "</tr>\n",
       "<tr>\n",
       "  <th>highway_mpg</th>      <td> -174.3590</td> <td>   61.706</td> <td>   -2.826</td> <td> 0.005</td> <td> -296.059</td> <td>  -52.659</td>\n",
       "</tr>\n",
       "</table>\n",
       "<table class=\"simpletable\">\n",
       "<tr>\n",
       "  <th>Omnibus:</th>       <td>11.078</td> <th>  Durbin-Watson:     </th> <td>   0.841</td>\n",
       "</tr>\n",
       "<tr>\n",
       "  <th>Prob(Omnibus):</th> <td> 0.004</td> <th>  Jarque-Bera (JB):  </th> <td>  20.221</td>\n",
       "</tr>\n",
       "<tr>\n",
       "  <th>Skew:</th>          <td> 0.243</td> <th>  Prob(JB):          </th> <td>4.07e-05</td>\n",
       "</tr>\n",
       "<tr>\n",
       "  <th>Kurtosis:</th>      <td> 4.484</td> <th>  Cond. No.          </th> <td>2.25e+03</td>\n",
       "</tr>\n",
       "</table><br/><br/>Notes:<br/>[1] Standard Errors assume that the covariance matrix of the errors is correctly specified.<br/>[2] The condition number is large, 2.25e+03. This might indicate that there are<br/>strong multicollinearity or other numerical problems."
      ],
      "text/latex": [
       "\\begin{center}\n",
       "\\begin{tabular}{lclc}\n",
       "\\toprule\n",
       "\\textbf{Dep. Variable:}    &      price       & \\textbf{  R-squared:         } &     0.812   \\\\\n",
       "\\textbf{Model:}            &       OLS        & \\textbf{  Adj. R-squared:    } &     0.808   \\\\\n",
       "\\textbf{Method:}           &  Least Squares   & \\textbf{  F-statistic:       } &     209.7   \\\\\n",
       "\\textbf{Date:}             & Sat, 30 Sep 2023 & \\textbf{  Prob (F-statistic):} &  2.84e-69   \\\\\n",
       "\\textbf{Time:}             &     15:26:07     & \\textbf{  Log-Likelihood:    } &   -1903.4   \\\\\n",
       "\\textbf{No. Observations:} &         199      & \\textbf{  AIC:               } &     3817.   \\\\\n",
       "\\textbf{Df Residuals:}     &         194      & \\textbf{  BIC:               } &     3833.   \\\\\n",
       "\\textbf{Df Model:}         &           4      & \\textbf{                     } &             \\\\\n",
       "\\textbf{Covariance Type:}  &    nonrobust     & \\textbf{                     } &             \\\\\n",
       "\\bottomrule\n",
       "\\end{tabular}\n",
       "\\begin{tabular}{lcccccc}\n",
       "                           & \\textbf{coef} & \\textbf{std err} & \\textbf{t} & \\textbf{P$> |$t$|$} & \\textbf{[0.025} & \\textbf{0.975]}  \\\\\n",
       "\\midrule\n",
       "\\textbf{Intercept}         &    3071.2513  &     3175.980     &     0.967  &         0.335        &    -3192.632    &     9335.134     \\\\\n",
       "\\textbf{fuel\\_type[T.gas]} &   -3882.1745  &      910.199     &    -4.265  &         0.000        &    -5677.331    &    -2087.018     \\\\\n",
       "\\textbf{engine\\_size}      &     102.6287  &       11.343     &     9.048  &         0.000        &       80.258    &      124.999     \\\\\n",
       "\\textbf{horsepower}        &      58.0126  &       14.923     &     3.888  &         0.000        &       28.581    &       87.444     \\\\\n",
       "\\textbf{highway\\_mpg}      &    -174.3590  &       61.706     &    -2.826  &         0.005        &     -296.059    &      -52.659     \\\\\n",
       "\\bottomrule\n",
       "\\end{tabular}\n",
       "\\begin{tabular}{lclc}\n",
       "\\textbf{Omnibus:}       & 11.078 & \\textbf{  Durbin-Watson:     } &    0.841  \\\\\n",
       "\\textbf{Prob(Omnibus):} &  0.004 & \\textbf{  Jarque-Bera (JB):  } &   20.221  \\\\\n",
       "\\textbf{Skew:}          &  0.243 & \\textbf{  Prob(JB):          } & 4.07e-05  \\\\\n",
       "\\textbf{Kurtosis:}      &  4.484 & \\textbf{  Cond. No.          } & 2.25e+03  \\\\\n",
       "\\bottomrule\n",
       "\\end{tabular}\n",
       "%\\caption{OLS Regression Results}\n",
       "\\end{center}\n",
       "\n",
       "Notes: \\newline\n",
       " [1] Standard Errors assume that the covariance matrix of the errors is correctly specified. \\newline\n",
       " [2] The condition number is large, 2.25e+03. This might indicate that there are \\newline\n",
       " strong multicollinearity or other numerical problems."
      ],
      "text/plain": [
       "<class 'statsmodels.iolib.summary.Summary'>\n",
       "\"\"\"\n",
       "                            OLS Regression Results                            \n",
       "==============================================================================\n",
       "Dep. Variable:                  price   R-squared:                       0.812\n",
       "Model:                            OLS   Adj. R-squared:                  0.808\n",
       "Method:                 Least Squares   F-statistic:                     209.7\n",
       "Date:                Sat, 30 Sep 2023   Prob (F-statistic):           2.84e-69\n",
       "Time:                        15:26:07   Log-Likelihood:                -1903.4\n",
       "No. Observations:                 199   AIC:                             3817.\n",
       "Df Residuals:                     194   BIC:                             3833.\n",
       "Df Model:                           4                                         \n",
       "Covariance Type:            nonrobust                                         \n",
       "====================================================================================\n",
       "                       coef    std err          t      P>|t|      [0.025      0.975]\n",
       "------------------------------------------------------------------------------------\n",
       "Intercept         3071.2513   3175.980      0.967      0.335   -3192.632    9335.134\n",
       "fuel_type[T.gas] -3882.1745    910.199     -4.265      0.000   -5677.331   -2087.018\n",
       "engine_size        102.6287     11.343      9.048      0.000      80.258     124.999\n",
       "horsepower          58.0126     14.923      3.888      0.000      28.581      87.444\n",
       "highway_mpg       -174.3590     61.706     -2.826      0.005    -296.059     -52.659\n",
       "==============================================================================\n",
       "Omnibus:                       11.078   Durbin-Watson:                   0.841\n",
       "Prob(Omnibus):                  0.004   Jarque-Bera (JB):               20.221\n",
       "Skew:                           0.243   Prob(JB):                     4.07e-05\n",
       "Kurtosis:                       4.484   Cond. No.                     2.25e+03\n",
       "==============================================================================\n",
       "\n",
       "Notes:\n",
       "[1] Standard Errors assume that the covariance matrix of the errors is correctly specified.\n",
       "[2] The condition number is large, 2.25e+03. This might indicate that there are\n",
       "strong multicollinearity or other numerical problems.\n",
       "\"\"\""
      ]
     },
     "execution_count": 52,
     "metadata": {},
     "output_type": "execute_result"
    }
   ],
   "source": [
    "# Create regression model using smf.ols\n",
    "model = smf.ols('price ~ engine_size + horsepower + highway_mpg + fuel_type', data=model_data).fit()\n",
    "model.summary()"
   ]
  },
  {
   "cell_type": "code",
   "execution_count": 53,
   "metadata": {},
   "outputs": [
    {
     "data": {
      "text/html": [
       "<div>\n",
       "<style scoped>\n",
       "    .dataframe tbody tr th:only-of-type {\n",
       "        vertical-align: middle;\n",
       "    }\n",
       "\n",
       "    .dataframe tbody tr th {\n",
       "        vertical-align: top;\n",
       "    }\n",
       "\n",
       "    .dataframe thead th {\n",
       "        text-align: right;\n",
       "    }\n",
       "</style>\n",
       "<table border=\"1\" class=\"dataframe\">\n",
       "  <thead>\n",
       "    <tr style=\"text-align: right;\">\n",
       "      <th></th>\n",
       "      <th>df</th>\n",
       "      <th>sum_sq</th>\n",
       "      <th>mean_sq</th>\n",
       "      <th>F</th>\n",
       "      <th>PR(&gt;F)</th>\n",
       "    </tr>\n",
       "  </thead>\n",
       "  <tbody>\n",
       "    <tr>\n",
       "      <th>fuel_type</th>\n",
       "      <td>1.0</td>\n",
       "      <td>1.496960e+08</td>\n",
       "      <td>1.496960e+08</td>\n",
       "      <td>12.267655</td>\n",
       "      <td>5.720085e-04</td>\n",
       "    </tr>\n",
       "    <tr>\n",
       "      <th>engine_size</th>\n",
       "      <td>1.0</td>\n",
       "      <td>9.503851e+09</td>\n",
       "      <td>9.503851e+09</td>\n",
       "      <td>778.844709</td>\n",
       "      <td>7.616789e-70</td>\n",
       "    </tr>\n",
       "    <tr>\n",
       "      <th>horsepower</th>\n",
       "      <td>1.0</td>\n",
       "      <td>4.863750e+08</td>\n",
       "      <td>4.863750e+08</td>\n",
       "      <td>39.858640</td>\n",
       "      <td>1.818820e-09</td>\n",
       "    </tr>\n",
       "    <tr>\n",
       "      <th>highway_mpg</th>\n",
       "      <td>1.0</td>\n",
       "      <td>9.742880e+07</td>\n",
       "      <td>9.742880e+07</td>\n",
       "      <td>7.984332</td>\n",
       "      <td>5.212118e-03</td>\n",
       "    </tr>\n",
       "    <tr>\n",
       "      <th>Residual</th>\n",
       "      <td>194.0</td>\n",
       "      <td>2.367285e+09</td>\n",
       "      <td>1.220250e+07</td>\n",
       "      <td>NaN</td>\n",
       "      <td>NaN</td>\n",
       "    </tr>\n",
       "  </tbody>\n",
       "</table>\n",
       "</div>"
      ],
      "text/plain": [
       "                df        sum_sq       mean_sq           F        PR(>F)\n",
       "fuel_type      1.0  1.496960e+08  1.496960e+08   12.267655  5.720085e-04\n",
       "engine_size    1.0  9.503851e+09  9.503851e+09  778.844709  7.616789e-70\n",
       "horsepower     1.0  4.863750e+08  4.863750e+08   39.858640  1.818820e-09\n",
       "highway_mpg    1.0  9.742880e+07  9.742880e+07    7.984332  5.212118e-03\n",
       "Residual     194.0  2.367285e+09  1.220250e+07         NaN           NaN"
      ]
     },
     "execution_count": 53,
     "metadata": {},
     "output_type": "execute_result"
    }
   ],
   "source": [
    "# Sequential F Test on regression model\n",
    "\n",
    "sequential_aov_table = sm.stats.anova_lm(model, typ=1)\n",
    "sequential_aov_table"
   ]
  },
  {
   "cell_type": "markdown",
   "metadata": {},
   "source": [
    "The Sequential F test adds in the predictors in a set order, and tests the significance of a predictor against all of the other predictors already added to the reduced model.\n",
    "For example, in our case, consider the test here on *horsepower*. We are using the following models to conduct our F test on the significance of *horsepower* in predicting price:\n",
    "\n",
    "Reduced Model: *__price ~ fuel_type + engine_size__*\n",
    "\n",
    "Full Model: *__price ~ fuel_type + engine_size + horsepower__*\n",
    "\n",
    "For this test, highway_mpg isn't part of either model. This brings us to the Partial F Test."
   ]
  },
  {
   "cell_type": "code",
   "execution_count": 43,
   "metadata": {},
   "outputs": [
    {
     "data": {
      "text/html": [
       "<div>\n",
       "<style scoped>\n",
       "    .dataframe tbody tr th:only-of-type {\n",
       "        vertical-align: middle;\n",
       "    }\n",
       "\n",
       "    .dataframe tbody tr th {\n",
       "        vertical-align: top;\n",
       "    }\n",
       "\n",
       "    .dataframe thead th {\n",
       "        text-align: right;\n",
       "    }\n",
       "</style>\n",
       "<table border=\"1\" class=\"dataframe\">\n",
       "  <thead>\n",
       "    <tr style=\"text-align: right;\">\n",
       "      <th></th>\n",
       "      <th>sum_sq</th>\n",
       "      <th>df</th>\n",
       "      <th>F</th>\n",
       "      <th>PR(&gt;F)</th>\n",
       "    </tr>\n",
       "  </thead>\n",
       "  <tbody>\n",
       "    <tr>\n",
       "      <th>fuel_type</th>\n",
       "      <td>2.219861e+08</td>\n",
       "      <td>1.0</td>\n",
       "      <td>18.191857</td>\n",
       "      <td>3.118291e-05</td>\n",
       "    </tr>\n",
       "    <tr>\n",
       "      <th>engine_size</th>\n",
       "      <td>9.989917e+08</td>\n",
       "      <td>1.0</td>\n",
       "      <td>81.867806</td>\n",
       "      <td>1.530876e-16</td>\n",
       "    </tr>\n",
       "    <tr>\n",
       "      <th>horsepower</th>\n",
       "      <td>1.844180e+08</td>\n",
       "      <td>1.0</td>\n",
       "      <td>15.113133</td>\n",
       "      <td>1.389653e-04</td>\n",
       "    </tr>\n",
       "    <tr>\n",
       "      <th>highway_mpg</th>\n",
       "      <td>9.742880e+07</td>\n",
       "      <td>1.0</td>\n",
       "      <td>7.984332</td>\n",
       "      <td>5.212118e-03</td>\n",
       "    </tr>\n",
       "    <tr>\n",
       "      <th>Residual</th>\n",
       "      <td>2.367285e+09</td>\n",
       "      <td>194.0</td>\n",
       "      <td>NaN</td>\n",
       "      <td>NaN</td>\n",
       "    </tr>\n",
       "  </tbody>\n",
       "</table>\n",
       "</div>"
      ],
      "text/plain": [
       "                   sum_sq     df          F        PR(>F)\n",
       "fuel_type    2.219861e+08    1.0  18.191857  3.118291e-05\n",
       "engine_size  9.989917e+08    1.0  81.867806  1.530876e-16\n",
       "horsepower   1.844180e+08    1.0  15.113133  1.389653e-04\n",
       "highway_mpg  9.742880e+07    1.0   7.984332  5.212118e-03\n",
       "Residual     2.367285e+09  194.0        NaN           NaN"
      ]
     },
     "execution_count": 43,
     "metadata": {},
     "output_type": "execute_result"
    }
   ],
   "source": [
    "# Partial F Test on regression model\n",
    "\n",
    "partial_aov_table = sm.stats.anova_lm(model, typ=2)\n",
    "partial_aov_table"
   ]
  },
  {
   "cell_type": "markdown",
   "metadata": {},
   "source": [
    "The Partial F Test differs from the Sequential F Test in that the test for each predictor is done using ALL other predictors in the model as well. We can see that this changes the F-statistic for all of the predictor variables in the ANOVA table above compared to the Sequential F Test table, except for *highway_mpg*, because in the sequential test, it was already tested with all of the other variables included in the model.\n",
    "\n",
    "So, let's consider the test on significance for *horsepower* again, this time using the Partial F Test. WE would have the following models for our test:\n",
    "\n",
    "Reduced Model: *__price ~ fuel_type + engine_size + highway_mpg__*\n",
    "\n",
    "Full Model: *__price ~ fuel_type + engine_size + highway_mpg + horsepower__*\n",
    "\n",
    "The Partial F Test will give the same results as the t tests for each predictor in the original regression, as the t tests also look to test the significant of each individual predictor variable given all of the other predictors included in the model."
   ]
  },
  {
   "cell_type": "code",
   "execution_count": 58,
   "metadata": {},
   "outputs": [
    {
     "name": "stdout",
     "output_type": "stream",
     "text": [
      "   VIF Factor          Features\n",
      "0  164.497754         Intercept\n",
      "1    1.221390  fuel_type[T.gas]\n",
      "2    3.639274       engine_size\n",
      "3    5.095827        horsepower\n",
      "4    2.898497       highway_mpg\n"
     ]
    }
   ],
   "source": [
    "# additional imports needed to check for multicollinearity\n",
    "from statsmodels.stats.outliers_influence import variance_inflation_factor\n",
    "from patsy import dmatrices\n",
    "\n",
    "# Calculate the VIF for each predictor variable included in model\n",
    "vif_y, vif_x = dmatrices('price ~ engine_size + horsepower + highway_mpg + fuel_type',\n",
    "\t\t\t\t\t\t data=model_data, return_type='dataframe')\n",
    "\n",
    "vif = pd.DataFrame()\n",
    "vif['VIF Factor'] = [variance_inflation_factor(vif_x.values, i) for i in range(vif_x.shape[1])]\n",
    "vif['Features'] = vif_x.columns\n",
    "print(vif)"
   ]
  },
  {
   "cell_type": "code",
   "execution_count": 61,
   "metadata": {},
   "outputs": [
    {
     "data": {
      "image/png": "[encoded data removed]",
      "text/plain": [
       "<Figure size 720x720 with 1 Axes>"
      ]
     },
     "metadata": {
      "needs_background": "light"
     },
     "output_type": "display_data"
    }
   ],
   "source": [
    "# check for influential points in the model\n",
    "# graph is an easy way to visualize influential points\n",
    "fig, ax = plt.subplots(figsize=(10,10))\n",
    "fig = sm.graphics.influence_plot(model, ax=ax, criterion='cooks')"
   ]
  },
  {
   "cell_type": "code",
   "execution_count": null,
   "metadata": {},
   "outputs": [],
   "source": []
  }
 ],
 "metadata": {
  "kernelspec": {
   "display_name": "base",
   "language": "python",
   "name": "python3"
  },
  "language_info": {
   "codemirror_mode": {
    "name": "ipython",
    "version": 3
   },
   "file_extension": ".py",
   "mimetype": "text/x-python",
   "name": "python",
   "nbconvert_exporter": "python",
   "pygments_lexer": "ipython3",
   "version": "3.11.0"
  },
  "orig_nbformat": 4
 },
 "nbformat": 4,
 "nbformat_minor": 2
}
